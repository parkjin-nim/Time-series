{
 "cells": [
  {
   "cell_type": "code",
   "execution_count": 1,
   "metadata": {},
   "outputs": [],
   "source": [
    "import random\n",
    "import numpy as np\n",
    "\n",
    "def gen_individual(length):\n",
    "    genes = []\n",
    "    for i in range(100):\n",
    "        genes.append(''.join(random.sample(geneSet,length)))\n",
    "    return genes\n",
    "\n",
    "def get_fitness(guess, target):\n",
    "    guess_sums=[]\n",
    "    for item in guess:\n",
    "        guess_sums.append(sum(1 for expected, actual in zip(target, item) if expected == actual))\n",
    "\n",
    "    i = np.array(guess_sums).argmax()\n",
    "    return guess_sums[i], guess[i]\n",
    "\n",
    "def mutate(parent):\n",
    "    index=random.randrange(0,len(parent))\n",
    "    childGenes=list(parent)\n",
    "    newGene,alternate=random.sample(geneSet,2)\n",
    "    childGenes[index]=alternate if newGene==childGenes[index] else newGene\n",
    "    return''.join(childGenes)\n",
    "\n",
    "def display(guess, target):\n",
    "    fitness = sum(1 for expected, actual in zip(target, guess) if expected == actual)\n",
    "    print('{}\\t{}'.format(guess,fitness))\n"
   ]
  },
  {
   "cell_type": "code",
   "execution_count": 2,
   "metadata": {},
   "outputs": [
    {
     "name": "stdout",
     "output_type": "stream",
     "text": [
      "CuDacnLio.xdy\t3\n",
      "CuDacnLio.fdy\t4\n",
      "ZyfPmnLio.fdy\t5\n",
      "ZyfPmnLio.fuy\t6\n",
      "ZytPmnLio.fuy\t7\n",
      "ZytPmn.io.fuy\t8\n",
      "ZytPmn.io.fun\t9\n",
      "Zythmn.io.fun\t10\n",
      "Pythmn.io.fun\t11\n",
      "Pythmn.is.fun\t12\n"
     ]
    },
    {
     "data": {
      "text/plain": [
       "'PythmnLio.fuM'"
      ]
     },
     "execution_count": 2,
     "metadata": {},
     "output_type": "execute_result"
    }
   ],
   "source": [
    "def reproduce(x,y):\n",
    "    n = len(x)//2\n",
    "    return x[:n]+y[n:]\n",
    "\n",
    "def rullet_selection(guess, target):\n",
    "    guess_sums=[]\n",
    "    for item in guess:\n",
    "        guess_sums.append(sum(1 for expected, actual in zip(target, item) if expected == actual)) \n",
    "\n",
    "    total = sum(guess_sums)\n",
    "\n",
    "    prob = [item/total for item in guess_sums]\n",
    "    xy_sample = random.choices(guess,weights=prob,k=2)\n",
    "    return xy_sample\n",
    "\n",
    "def genetic(population, target):\n",
    "    \n",
    "    bestFitness, bestParent = get_fitness(population, target)\n",
    "\n",
    "    for i in range(20000):\n",
    "        \n",
    "        if bestParent == target:\n",
    "            print(\"Est.{} is the target\".format(bestParent))\n",
    "            return bestParent\n",
    "\n",
    "        population_new = []\n",
    "        for j in range(len(population)):\n",
    "            parentx, parenty = rullet_selection(population, target)\n",
    "            child = reproduce(parentx, parenty)\n",
    "            if random.random() > 0.7:\n",
    "                child=mutate(child)\n",
    "            population_new.append(child)\n",
    "\n",
    "        childFitness, bestChild = get_fitness(population_new, target)\n",
    "\n",
    "        if bestFitness >= childFitness:\n",
    "            continue\n",
    "        display(bestChild, target)\n",
    "\n",
    "        bestFitness=childFitness\n",
    "        population=population_new\n",
    "        bestParent = bestChild\n",
    "        \n",
    "    return bestChild\n",
    "\n",
    "geneSet='abcdefghijklmnopqrstuvwxyzABCDEFGHIJKLMNOPQRSTUVWXYZ!.'\n",
    "target='Python.is.fun'\n",
    "population=gen_individual(len(target))\n",
    "genetic(population,target)"
   ]
  },
  {
   "cell_type": "code",
   "execution_count": 3,
   "metadata": {},
   "outputs": [
    {
     "name": "stdout",
     "output_type": "stream",
     "text": [
      "time elapse\n",
      "0.0007410049438476562\n"
     ]
    }
   ],
   "source": [
    "from time import *\n",
    "\n",
    "start = time()\n",
    "print(\"time elapse\")\n",
    "end   = time()\n",
    "print(end-start)"
   ]
  }
 ],
 "metadata": {
  "kernelspec": {
   "display_name": "Python 3",
   "language": "python",
   "name": "python3"
  },
  "language_info": {
   "codemirror_mode": {
    "name": "ipython",
    "version": 3
   },
   "file_extension": ".py",
   "mimetype": "text/x-python",
   "name": "python",
   "nbconvert_exporter": "python",
   "pygments_lexer": "ipython3",
   "version": "3.6.7"
  }
 },
 "nbformat": 4,
 "nbformat_minor": 2
}
