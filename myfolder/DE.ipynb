{
 "cells": [
  {
   "cell_type": "markdown",
   "metadata": {},
   "source": [
    "---\n",
    "## Differential Evolution(DE)\n",
    "- purpose: \n",
    "    - multi-dimensional, real-value(continuous search space) optimization\n",
    "    - **multi-dimesional search space를 탐색할 때 탐색cost가 커지는 문제를 제어**\n",
    "\n",
    "- steps: \n",
    "    - mutation, crossover, selection step으로 구성됨(GA와 순서에 차이)\n",
    "    - population: 각 individual은 실수형 vector로서 search points를 의미함(탐색 대상은 모델(function) parameter) \n",
    "    - mutation은 3개 랜덤벡터와 differential weight를 가진 선형변환(a + F * (b - c))\n",
    "        - **differential weight F는 mutation정도 수준을 결정해 global search radius를 제어하는 것으로 볼 수 있음**\n",
    "        - **crossover는 선형변환으로 만들어진 mutation을 CR비율만큼 단순 반영하는 것임**\n",
    "        - **따라서, DE의 mutation과 crossover는 high-dimensional search를 효율적으로 하도록 결합해진 형태로 볼 수 있음**\n",
    "- usage:\n",
    "    - complex function optimization에 사용\n",
    "    - **Gradient를 사용하지 않는 optimization**으로써, 미분가능하지 않거나, continuous, noisy, 시간에 따라 변하는 Optimization 문제에 적용 가능 \n",
    "    - parallel computing, multi-objective, contraint optimization 적용가능"
   ]
  },
  {
   "cell_type": "markdown",
   "metadata": {},
   "source": [
    "## DE_fitting_multidimesional_non-linear_function"
   ]
  },
  {
   "cell_type": "code",
   "execution_count": 33,
   "metadata": {},
   "outputs": [],
   "source": [
    "import numpy as np\n",
    "\n",
    "def fobj(x):\n",
    "    \n",
    "    # fitness function is defined as minimizing vector dot product length.  \n",
    "    value = 0\n",
    "    for i in range(len(x)):\n",
    "        value += x[i]**2\n",
    "    return value / len(x)\n",
    "\n",
    "def de(fobj, bounds, mut=0.8, crossp=0.7, popsize=20, its=1000):\n",
    "\n",
    "    # generate random population\n",
    "    #20*32(n*dim) vectors filled with real value(prob.) in [0~1]\n",
    "    dimensions = len(bounds)\n",
    "    pop = np.random.rand(popsize, dimensions)\n",
    "    \n",
    "    # calc. the denormalized vectors of population\n",
    "    min_b, max_b = np.asarray(bounds).T\n",
    "    diff = np.fabs(min_b - max_b)\n",
    "    pop_denorm = min_b + pop * diff\n",
    "    \n",
    "    # fitness scores for denormalized vectors of population\n",
    "    fitness = np.asarray([fobj(ind) for ind in pop_denorm])\n",
    "\n",
    "    best_idx = np.argmin(fitness)\n",
    "    best = pop_denorm[best_idx]\n",
    "    \n",
    "    for i in range(its):\n",
    "        for j in range(popsize):\n",
    "            \n",
    "            # 3*32(n*dim) vectors randomly chosen from populaion\n",
    "            idxs = [idx for idx in range(popsize) if idx != j]\n",
    "            a, b, c = pop[np.random.choice(idxs, 3, replace = False)]\n",
    "            \n",
    "            # mutation is linear transf. of 3 random vectors w/ differential weight 0.8\n",
    "            mutant = np.clip(a + mut * (b - c), 0, 1)\n",
    "            \n",
    "            # take rand multivariate, cross_points\n",
    "            cross_points = np.random.rand(dimensions) < crossp\n",
    "            \n",
    "            # mark its each dim. True, if it is < crossover prob. 0.7\n",
    "            if not np.any(cross_points):\n",
    "                cross_points[np.random.randint(0, dimensions)] = True\n",
    "            \n",
    "            # cross_point가 true인 위치에 mutant값, false위치에 individual값    \n",
    "            trial = np.where(cross_points, mutant, pop[j])\n",
    "            \n",
    "            # denormalize to calc. fitness score\n",
    "            trial_denorm = min_b + trial * diff\n",
    "            f = fobj(trial_denorm)\n",
    "            \n",
    "            # if f is lower, set the fitter as an individual \n",
    "            if f < fitness[j]:\n",
    "                fitness[j] = f\n",
    "                pop[j] = trial\n",
    "                \n",
    "                # if f is lowest, set the fittest\n",
    "                if f < fitness[best_idx]:\n",
    "                    best_idx = j\n",
    "                    best = trial_denorm\n",
    "                    \n",
    "        yield best, fitness[best_idx]\n",
    "        "
   ]
  },
  {
   "cell_type": "code",
   "execution_count": 2,
   "metadata": {},
   "outputs": [
    {
     "name": "stdout",
     "output_type": "stream",
     "text": [
      "sol. is \n",
      " [-0.00059571  0.00191073 -0.00186044  0.00420586 -0.00568311 -0.00245569\n",
      " -0.00215058  0.00086746  0.00162041  0.00144737  0.0009572   0.00534128\n",
      " -0.00742438  0.00238295  0.00388554  0.00157263 -0.00537227  0.00047927\n",
      "  0.00501834 -0.00303645  0.00259115  0.00339052 -0.00054047  0.00269476\n",
      "  0.00318701 -0.00866648 -0.00390759 -0.00747078 -0.0005268  -0.00774903\n",
      "  0.00297628 -0.00034255] \n",
      " note that cost is not zero 1.550950342071734e-05\n",
      "\n",
      "run time is 5.260102987289429\n"
     ]
    },
    {
     "data": {
      "text/plain": [
       "[<matplotlib.lines.Line2D at 0x7fa375ac23c8>]"
      ]
     },
     "execution_count": 2,
     "metadata": {},
     "output_type": "execute_result"
    },
    {
     "data": {
      "image/png": "[encoded data removed]",
      "text/plain": [
       "<Figure size 432x288 with 1 Axes>"
      ]
     },
     "metadata": {
      "needs_background": "light"
     },
     "output_type": "display_data"
    }
   ],
   "source": [
    "import matplotlib.pyplot as plt\n",
    "import time\n",
    "\n",
    "#result = list(de(lambda x: x**2 / len(x), bounds=[(-100, 100)] * 32, its=3000))\n",
    "start = time.time()\n",
    "# note tha input is 32 dimensional vector.\n",
    "result = list(de(fobj, bounds=[(-100, 100)] * 32, its=3000))\n",
    "end = time.time()\n",
    "print(\"sol. is \\n {} \\n note that cost is not zero {}\".format(result[-1][0],result[-1][1]))\n",
    "print()\n",
    "print(\"run time is {}\".format(end-start))\n",
    "x, f = zip(*result)\n",
    "plt.plot(f)"
   ]
  },
  {
   "cell_type": "code",
   "execution_count": 3,
   "metadata": {},
   "outputs": [
    {
     "data": {
      "text/plain": [
       "<matplotlib.legend.Legend at 0x7fa375b9fe10>"
      ]
     },
     "execution_count": 3,
     "metadata": {},
     "output_type": "execute_result"
    },
    {
     "data": {
      "image/png": "[encoded data removed]",
      "text/plain": [
       "<Figure size 432x288 with 1 Axes>"
      ]
     },
     "metadata": {
      "needs_background": "light"
     },
     "output_type": "display_data"
    }
   ],
   "source": [
    "# plot fitness converge depending on dimensionality\n",
    "for d in [8, 16, 32, 64]:\n",
    "    it = list(de(lambda x: sum(x**2)/d, [(-100, 100)] * d, its=3000))    \n",
    "    x, f = zip(*it)\n",
    "    plt.plot(f, label='d={}'.format(d))\n",
    "plt.legend()"
   ]
  },
  {
   "cell_type": "markdown",
   "metadata": {},
   "source": [
    "## Michalewicz function[https://www.sfu.ca/~ssurjano/michal.png]"
   ]
  },
  {
   "cell_type": "code",
   "execution_count": 55,
   "metadata": {},
   "outputs": [],
   "source": [
    "def Micha_fobj(x):\n",
    "    \n",
    "    # fitness function is defined as minimizing vector dot product length.  \n",
    "    value = 0\n",
    "    for i in range(len(x)):\n",
    "        value += np.sin(x[i])*(np.sin(((i+1)*(x[i]**2))/np.pi)**20)\n",
    "        \n",
    "    #return value\n",
    "    return (-1)*value"
   ]
  },
  {
   "cell_type": "code",
   "execution_count": 61,
   "metadata": {},
   "outputs": [
    {
     "name": "stdout",
     "output_type": "stream",
     "text": [
      "sol. is \n",
      " [2.20290552 1.57079632] \n",
      " note that cost is not zero -1.8013034100985537\n",
      "sol. is \n",
      " [2.20290552 1.57079633 1.28499157 1.92305847 1.72046977] \n",
      " note that cost is not zero -4.68765817908815\n",
      "sol. is \n",
      " [2.20290552 1.57079632 1.28499157 1.92305847 1.72046977 1.57079633\n",
      " 1.45441397 1.75608652 1.65571742 1.57079633] \n",
      " note that cost is not zero -9.660151715641348\n"
     ]
    },
    {
     "data": {
      "text/plain": [
       "<matplotlib.legend.Legend at 0x7fa376fb0be0>"
      ]
     },
     "execution_count": 61,
     "metadata": {},
     "output_type": "execute_result"
    },
    {
     "data": {
      "image/png": "[encoded data removed]",
      "text/plain": [
       "<Figure size 432x288 with 1 Axes>"
      ]
     },
     "metadata": {
      "needs_background": "light"
     },
     "output_type": "display_data"
    }
   ],
   "source": [
    "for d in [2, 5,10]:\n",
    "    result = list(de(Micha_fobj, bounds=[(0, np.pi)] * d, its=5000))\n",
    "    print(\"sol. is \\n {} \\n note that cost is not zero {}\".format(result[-1][0],result[-1][1]))\n",
    "\n",
    "    x, f = zip(*result)\n",
    "    plt.plot(f, label='d={}'.format(d))\n",
    "plt.legend()"
   ]
  },
  {
   "cell_type": "code",
   "execution_count": 66,
   "metadata": {},
   "outputs": [
    {
     "data": {
      "text/plain": [
       "array([ 0.97287429, -0.19727518, -1.74046204])"
      ]
     },
     "execution_count": 66,
     "metadata": {},
     "output_type": "execute_result"
    }
   ],
   "source": [
    "np.random.randn(5, 3) \n",
    "np.random.randn(3) "
   ]
  },
  {
   "cell_type": "markdown",
   "metadata": {},
   "source": [
    "# DE_2.0"
   ]
  },
  {
   "cell_type": "code",
   "execution_count": 39,
   "metadata": {},
   "outputs": [],
   "source": [
    "import numpy as np\n",
    "\n",
    "def fobj(x):\n",
    "    reward = np.sum(np.square(solution - x), axis=1)\n",
    "    return reward\n",
    "\n",
    "def de(fobj, bounds, mut=0.8, crossp=0.7, popsize=5000, its=1000):\n",
    "\n",
    "    # generate random population\n",
    "    #20*32(n*dim) vectors filled with real value(prob.) in [0~1]\n",
    "    dimensions = len(bounds)\n",
    "    pop = np.random.randn(popsize, dimensions)\n",
    "    \n",
    "    # calc. the denormalized vectors of population\n",
    "    min_b, max_b = np.asarray(bounds).T\n",
    "    diff = np.fabs(min_b - max_b)\n",
    "    pop_denorm = min_b + pop * diff\n",
    "    \n",
    "    # fitness scores for denormalized vectors of population\n",
    "    #fitness = np.asarray([fobj(ind) for ind in pop_denorm])\n",
    "    fitness = fobj(pop_denorm)\n",
    "    best_idx = np.argmin(fitness)\n",
    "    best = pop_denorm[best_idx]\n",
    "        \n",
    "    for i in range(1):\n",
    "        \n",
    "        # print current fitness of the most likely parameter setting\n",
    "        if i % 20 == 0:\n",
    "            print('iter %d. w: %s, solution: %s, reward: %f' % \n",
    "              (i, str(best), str(solution), fitness[best_idx]))      \n",
    "        \n",
    "        # pick a,b,c out of 5000. ignore duplicates\n",
    "        idxs = np.random.randint(0,popsize,size=(popsize,3))\n",
    "        abc = pop[idxs]\n",
    "        mutant = np.clip(abc[:, 0] + .8 * (abc[:, 1] - abc[:, 2]), 0, 1)\n",
    "        \n",
    "        cross_points = np.random.rand(popsize,dimensions) < 0.7\n",
    "        \n",
    "        # ignore all dimensions False case\n",
    "        \n",
    "        trial = np.where(cross_points, mutant, pop)\n",
    "\n",
    "        trial_denorm = min_b + trial * diff\n",
    "\n",
    "        f = fobj(trial_denorm)\n",
    "        \n",
    "        pop[f < fitness] = trial[f < fitness]\n",
    "        fitness = f\n",
    "        \n",
    "        best_idx = fitness.argmin()\n",
    "        best     = trial_denorm[best_idx]\n",
    "                    \n",
    "        yield best, fitness[best_idx]\n",
    "        "
   ]
  },
  {
   "cell_type": "code",
   "execution_count": 40,
   "metadata": {},
   "outputs": [
    {
     "name": "stdout",
     "output_type": "stream",
     "text": [
      "iter 0. w: [21.3297103  -1.80916293 17.05070246], solution: [ 0.5  0.1 -0.3], reward: 738.568610\n",
      "[[ 0.         -2.17205519  0.        ]\n",
      " [ 0.57728886  0.64324569  0.26010704]\n",
      " [ 0.53021524  1.          1.        ]\n",
      " ...\n",
      " [ 0.33613667 -1.26858402  0.41980469]\n",
      " [ 1.12955842  0.          0.        ]\n",
      " [ 0.          0.73789868  0.        ]]\n"
     ]
    },
    {
     "data": {
      "text/plain": [
       "[<matplotlib.lines.Line2D at 0x7ff0a3983048>]"
      ]
     },
     "execution_count": 40,
     "metadata": {},
     "output_type": "execute_result"
    },
    {
     "data": {
      "image/png": "[encoded data removed]",
      "text/plain": [
       "<Figure size 432x288 with 1 Axes>"
      ]
     },
     "metadata": {
      "needs_background": "light"
     },
     "output_type": "display_data"
    }
   ],
   "source": [
    "import matplotlib.pyplot as plt\n",
    "\n",
    "solution = np.array([0.5, 0.1, -0.3])\n",
    "\n",
    "result = list(de(fobj, bounds=[(-100, 100)] * 3, its=300))\n",
    "\n",
    "x, f = zip(*result)\n",
    "plt.plot(f)"
   ]
  }
 ],
 "metadata": {
  "kernelspec": {
   "display_name": "Python 3",
   "language": "python",
   "name": "python3"
  },
  "language_info": {
   "codemirror_mode": {
    "name": "ipython",
    "version": 3
   },
   "file_extension": ".py",
   "mimetype": "text/x-python",
   "name": "python",
   "nbconvert_exporter": "python",
   "pygments_lexer": "ipython3",
   "version": "3.6.7"
  }
 },
 "nbformat": 4,
 "nbformat_minor": 2
}
