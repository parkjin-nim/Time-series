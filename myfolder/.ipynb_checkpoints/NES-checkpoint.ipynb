{
 "cells": [
  {
   "cell_type": "markdown",
   "metadata": {},
   "source": [
    "---\n",
    "## Natural Evolution Strategy(NES)\n",
    "- purpose: \n",
    "    - multi-dimensional, real-value(continuous search space), black-box optimization\n",
    "    - parameterized (search) distribution으로부터 새로운 후보를 sampling추출하는 방식\n",
    "\n",
    "- steps: \n",
    "    - 오직 better individual이 되기위한 mutation에 집중됨\n",
    "    - population: 각 individual은 (search) distribution으로부터 sampling됨.\n",
    "    - mutation과정은 **(search) distribution parameter, theta를 update하는 과정임(i.e., Gaussian분포라 가정하면 mu와 cov.)**\n",
    "        - Sample들과 그 fitness값을 이용해 Monte Carlo simulation방식으로, theta에 대한 gradient를 추정.\n",
    "        - gradient를 Natural gradient로 바꿈.\n",
    "        - 높은 기대값의 fitness를 구하는 방향으로 gradient ascent방식으로 theta를 update한다. \n",
    "        - **(search) distribution의 모양을 adaptive방식으로 capture하는 것**\n",
    "       \n",
    "- usage:\n",
    "    - complex function optimization에 사용\n",
    "    - **Natural Gradient를 사용**해 objective에 대한 정보가 없는 경우, continuous, complex, noisy, 시간에 따라 변하는 문제에 적용가능 \n",
    "    - parallel computing, multi-objective, contraint optimization 적용가능\n",
    "    \n",
    "- papaers:\n",
    "    - Natural Evolution Strategies - Daan Wierstra et.al\n",
    "    - Benchmarking Separable Natural Evolution Strategies on the Noiseless and Noisy Black-box Optimization Testbeds - Tom Schaul"
   ]
  },
  {
   "cell_type": "code",
   "execution_count": 3,
   "metadata": {},
   "outputs": [
    {
     "name": "stdout",
     "output_type": "stream",
     "text": [
      "iter 0. w: [1.76405235 0.40015721 0.97873798], solution: [ 0.5  0.1 -0.3], reward: -3.323094\n",
      "iter 20. w: [1.63796944 0.36987244 0.84497941], solution: [ 0.5  0.1 -0.3], reward: -2.678783\n",
      "iter 40. w: [1.50042904 0.33577052 0.70329169], solution: [ 0.5  0.1 -0.3], reward: -2.063040\n",
      "iter 60. w: [1.36438269 0.29247833 0.56990397], solution: [ 0.5  0.1 -0.3], reward: -1.540938\n",
      "iter 80. w: [1.2257328  0.25622233 0.43607161], solution: [ 0.5  0.1 -0.3], reward: -1.092895\n",
      "iter 100. w: [1.08819889 0.22827364 0.30415088], solution: [ 0.5  0.1 -0.3], reward: -0.727430\n",
      "iter 120. w: [0.95675286 0.19282042 0.16682465], solution: [ 0.5  0.1 -0.3], reward: -0.435164\n",
      "iter 140. w: [0.82214521 0.16161165 0.03600742], solution: [ 0.5  0.1 -0.3], reward: -0.220475\n",
      "iter 160. w: [ 0.70282088  0.12935569 -0.09779598], solution: [ 0.5  0.1 -0.3], reward: -0.082885\n",
      "iter 180. w: [ 0.58380424  0.11579811 -0.21083135], solution: [ 0.5  0.1 -0.3], reward: -0.015224\n",
      "iter 200. w: [ 0.52089064  0.09897718 -0.2761225 ], solution: [ 0.5  0.1 -0.3], reward: -0.001008\n",
      "iter 220. w: [ 0.50861791  0.10220363 -0.29023563], solution: [ 0.5  0.1 -0.3], reward: -0.000174\n",
      "iter 240. w: [ 0.50428202  0.10834192 -0.29828744], solution: [ 0.5  0.1 -0.3], reward: -0.000091\n",
      "iter 260. w: [ 0.50147991  0.1044559  -0.30255291], solution: [ 0.5  0.1 -0.3], reward: -0.000029\n",
      "iter 280. w: [ 0.50208135  0.0986722  -0.29841024], solution: [ 0.5  0.1 -0.3], reward: -0.000009\n"
     ]
    }
   ],
   "source": [
    "\"\"\"\n",
    "[코드참고: https://gist.github.com/karpathy/77fbb6a8dac5395f1b73e7a89300318d]\n",
    "\"\"\"\n",
    "\"\"\"\n",
    "A bare bones examples of optimizing a black-box function (f) using\n",
    "Natural Evolution Strategies (NES), where the parameter distribution is a \n",
    "gaussian of fixed standard deviation.\n",
    "\"\"\"\n",
    "\n",
    "import numpy as np\n",
    "np.random.seed(0)\n",
    "\n",
    "# the function we want to optimize\n",
    "def f(w):\n",
    "    # here we would normally:\n",
    "    # ... 1) create a neural network with weights w\n",
    "    # ... 2) run the neural network on the environment for some time\n",
    "    # ... 3) sum up and return the total reward\n",
    "\n",
    "    # but for the purposes of an example, lets try to minimize\n",
    "    # the L2 distance to a specific solution vector. So the highest reward\n",
    "    # we can achieve is 0, when the vector w is exactly equal to solution\n",
    "    \n",
    "    reward = -np.sum(np.square(solution - w))\n",
    "    return reward\n",
    "    \n",
    "    # fitness function is defined as minimizing vector dot product length.  \n",
    "#     value = 0\n",
    "#     for i in range(len(x)):\n",
    "#         value += x[i]**2\n",
    "#     return value / len(x)\n",
    "\n",
    "# hyperparameters\n",
    "npop = 50 # population size\n",
    "sigma = 0.1 # noise standard deviation\n",
    "alpha = 0.001 # learning rate\n",
    "\n",
    "# start the optimization\n",
    "solution = np.array([0.5, 0.1, -0.3])\n",
    "w = np.random.randn(3) # our initial guess is random\n",
    "for i in range(300):\n",
    "\n",
    "    # print current fitness of the most likely parameter setting\n",
    "    if i % 20 == 0:\n",
    "        print('iter %d. w: %s, solution: %s, reward: %f' % \n",
    "          (i, str(w), str(solution), f(w)))\n",
    "\n",
    "    # initialize memory for a population of w's, and their rewards\n",
    "    N = np.random.randn(npop, 3) # samples from a normal distribution N(0,1)\n",
    "    R = np.zeros(npop)\n",
    "    for j in range(npop):\n",
    "        w_try = w + sigma*N[j] # jitter w using gaussian of sigma 0.1\n",
    "        R[j] = f(w_try) # evaluate the jittered version\n",
    "        \n",
    "    # standardize the rewards to have a gaussian distribution\n",
    "    A = (R - np.mean(R)) / np.std(R)\n",
    "    \n",
    "    # perform the parameter update. The matrix multiply below\n",
    "    # is just an efficient way to sum up all the rows of the noise matrix N,\n",
    "    # where each row N[j] is weighted by A[j]\n",
    "    w = w + alpha/(npop*sigma) * np.dot(N.T, A)\n",
    "\n",
    "# when run, prints:\n",
    "# iter 0. w: [ 1.76405235  0.40015721  0.97873798], solution: [ 0.5  0.1 -0.3], reward: -3.323094\n",
    "# iter 20. w: [ 1.63796944  0.36987244  0.84497941], solution: [ 0.5  0.1 -0.3], reward: -2.678783\n",
    "# iter 40. w: [ 1.50042904  0.33577052  0.70329169], solution: [ 0.5  0.1 -0.3], reward: -2.063040\n",
    "# iter 60. w: [ 1.36438269  0.29247833  0.56990397], solution: [ 0.5  0.1 -0.3], reward: -1.540938\n",
    "# iter 80. w: [ 1.2257328   0.25622233  0.43607161], solution: [ 0.5  0.1 -0.3], reward: -1.092895\n",
    "# iter 100. w: [ 1.08819889  0.22827364  0.30415088], solution: [ 0.5  0.1 -0.3], reward: -0.727430\n",
    "# iter 120. w: [ 0.95675286  0.19282042  0.16682465], solution: [ 0.5  0.1 -0.3], reward: -0.435164\n",
    "# iter 140. w: [ 0.82214521  0.16161165  0.03600742], solution: [ 0.5  0.1 -0.3], reward: -0.220475\n",
    "# iter 160. w: [ 0.70282088  0.12935569 -0.09779598], solution: [ 0.5  0.1 -0.3], reward: -0.082885\n",
    "# iter 180. w: [ 0.58380424  0.11579811 -0.21083135], solution: [ 0.5  0.1 -0.3], reward: -0.015224\n",
    "# iter 200. w: [ 0.52089064  0.09897718 -0.2761225 ], solution: [ 0.5  0.1 -0.3], reward: -0.001008\n",
    "# iter 220. w: [ 0.50861791  0.10220363 -0.29023563], solution: [ 0.5  0.1 -0.3], reward: -0.000174\n",
    "# iter 240. w: [ 0.50428202  0.10834192 -0.29828744], solution: [ 0.5  0.1 -0.3], reward: -0.000091\n",
    "# iter 260. w: [ 0.50147991  0.1044559  -0.30255291], solution: [ 0.5  0.1 -0.3], reward: -0.000029\n",
    "# iter 280. w: [ 0.50208135  0.0986722  -0.29841024], solution: [ 0.5  0.1 -0.3], reward: -0.000009\n",
    "\n",
    "\n"
   ]
  },
  {
   "cell_type": "markdown",
   "metadata": {},
   "source": [
    "# NES_v2.2"
   ]
  },
  {
   "cell_type": "code",
   "execution_count": 1,
   "metadata": {},
   "outputs": [],
   "source": [
    "from math import *\n",
    "import numpy as np\n",
    "from scipy.stats import multivariate_normal\n",
    "import scipy.stats\n",
    "np.random.seed(0)\n",
    "\n",
    "# the function we want to optimize\n",
    "def fobj_(w):\n",
    "    # take negative. because of NES's only gradient ascent.\n",
    "    reward = -np.sum(np.square(solution - w))\n",
    "    return reward\n",
    "\n",
    "def nes(f, alpha=0.001, sigma=0.1, asigma=0.00001, npop=5000, its=1000):\n",
    "\n",
    "    w = np.random.randn(3) # our initial guess is random\n",
    "    p = np.random.randn(npop, 3)\n",
    "    for i in range(its):\n",
    "\n",
    "        # print current fitness of the most likely parameter setting\n",
    "        if i % 20 == 0:\n",
    "            print('iter %d. w: %s, solution: %s, reward: %f' % \n",
    "              (i, str(w), str(solution), f(w)))\n",
    "\n",
    "        # initialize memory for a population of w's, and their rewards\n",
    "        N = np.random.randn(npop, 3) # samples from a normal distribution N(0,1)\n",
    "        R = np.zeros(npop)\n",
    "        for j in range(npop):\n",
    "            w_try = w + sigma*N[j] # jitter w using gaussian of sigma 0.1\n",
    "            R[j] = f(w_try) # evaluate the jittered version\n",
    "\n",
    "        # standardize the rewards to have a gaussian distribution\n",
    "        A = (R - np.mean(R)) / np.std(R)\n",
    "\n",
    "        # perform the parameter update. The matrix multiply below\n",
    "        # is just an efficient way to sum up all the rows of the noise matrix N,\n",
    "        # where each row N[j] is weighted by A[j]\n",
    "        w = w + alpha/(npop*sigma) * np.dot(N.T, A)\n",
    "\n",
    "        yield w, -f(w)"
   ]
  },
  {
   "cell_type": "code",
   "execution_count": 2,
   "metadata": {},
   "outputs": [
    {
     "name": "stdout",
     "output_type": "stream",
     "text": [
      "iter 0. w: [1.76405235 0.40015721 0.97873798], solution: [ 0.5  0.1 -0.3], reward: -3.323094\n",
      "iter 20. w: [1.62617722 0.36702464 0.83935126], solution: [ 0.5  0.1 -0.3], reward: -2.637699\n",
      "iter 40. w: [1.48768054 0.33382733 0.69890783], solution: [ 0.5  0.1 -0.3], reward: -2.028005\n",
      "iter 60. w: [1.34946005 0.3010699  0.5591144 ], solution: [ 0.5  0.1 -0.3], reward: -1.500089\n",
      "iter 80. w: [1.2116977  0.26682103 0.42001463], solution: [ 0.5  0.1 -0.3], reward: -1.052764\n",
      "iter 100. w: [1.07435785 0.23537741 0.28132655], solution: [ 0.5  0.1 -0.3], reward: -0.686155\n",
      "iter 120. w: [0.93769626 0.20227759 0.14343242], solution: [ 0.5  0.1 -0.3], reward: -0.398671\n",
      "iter 140. w: [0.80229221 0.17084618 0.00618809], solution: [ 0.5  0.1 -0.3], reward: -0.190151\n",
      "iter 160. w: [ 0.67127884  0.14005769 -0.12483044], solution: [ 0.5  0.1 -0.3], reward: -0.061625\n",
      "iter 180. w: [ 0.56271368  0.11380143 -0.23642717], solution: [ 0.5  0.1 -0.3], reward: -0.008165\n",
      "iter 200. w: [ 0.51250428  0.10345247 -0.28633578], solution: [ 0.5  0.1 -0.3], reward: -0.000355\n",
      "iter 220. w: [ 0.50228649  0.10114468 -0.29692082], solution: [ 0.5  0.1 -0.3], reward: -0.000016\n",
      "iter 240. w: [ 0.50105501  0.09912493 -0.2992283 ], solution: [ 0.5  0.1 -0.3], reward: -0.000002\n",
      "iter 260. w: [ 0.50033567  0.09994084 -0.29930528], solution: [ 0.5  0.1 -0.3], reward: -0.000001\n",
      "iter 280. w: [ 0.50053837  0.10033033 -0.29947292], solution: [ 0.5  0.1 -0.3], reward: -0.000001\n"
     ]
    },
    {
     "data": {
      "text/plain": [
       "[<matplotlib.lines.Line2D at 0x7feff4b5dcf8>]"
      ]
     },
     "execution_count": 2,
     "metadata": {},
     "output_type": "execute_result"
    },
    {
     "data": {
      "image/png": "[encoded data removed]",
      "text/plain": [
       "<Figure size 432x288 with 1 Axes>"
      ]
     },
     "metadata": {
      "needs_background": "light"
     },
     "output_type": "display_data"
    }
   ],
   "source": [
    "import matplotlib.pyplot as plt\n",
    "\n",
    "solution = np.array([0.5, 0.1, -0.3])\n",
    "\n",
    "result = list(nes(fobj_, alpha= 0.001, sigma= 0.1, its=300))\n",
    "\n",
    "x, f = zip(*result)\n",
    "plt.plot(f)"
   ]
  },
  {
   "cell_type": "code",
   "execution_count": null,
   "metadata": {},
   "outputs": [],
   "source": []
  }
 ],
 "metadata": {
  "kernelspec": {
   "display_name": "Python 3",
   "language": "python",
   "name": "python3"
  },
  "language_info": {
   "codemirror_mode": {
    "name": "ipython",
    "version": 3
   },
   "file_extension": ".py",
   "mimetype": "text/x-python",
   "name": "python",
   "nbconvert_exporter": "python",
   "pygments_lexer": "ipython3",
   "version": "3.6.7"
  }
 },
 "nbformat": 4,
 "nbformat_minor": 4
}
